{
 "cells": [
  {
   "cell_type": "markdown",
   "id": "66c24fe3-e9bf-4c72-8110-39db0feba996",
   "metadata": {},
   "source": [
    "# EDA of Training and Test Data\n",
    "\n",
    "Author: Finian O'Neill\n",
    "Purpose: Perform exploratory data analysis (EDA) on the input data."
   ]
  }
 ],
 "metadata": {
  "kernelspec": {
   "display_name": "kaggle-playground",
   "language": "python",
   "name": "kaggle-playground"
  },
  "language_info": {
   "codemirror_mode": {
    "name": "ipython",
    "version": 3
   },
   "file_extension": ".py",
   "mimetype": "text/x-python",
   "name": "python",
   "nbconvert_exporter": "python",
   "pygments_lexer": "ipython3",
   "version": "3.10.17"
  }
 },
 "nbformat": 4,
 "nbformat_minor": 5
}
